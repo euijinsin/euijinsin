{
  "cells": [
    {
      "cell_type": "markdown",
      "metadata": {
        "id": "kru1lSJFuh6M"
      },
      "source": [
        "This is a companion notebook for the book [Deep Learning with Python, Second Edition](https://www.manning.com/books/deep-learning-with-python-second-edition?a_aid=keras&a_bid=76564dff). For readability, it only contains runnable code blocks and section titles, and omits everything else in the book: text paragraphs, figures, and pseudocode.\n",
        "\n",
        "**If you want to be able to follow what's going on, I recommend reading the notebook side by side with your copy of the book.**\n",
        "\n",
        "This notebook was generated for TensorFlow 2.6."
      ]
    },
    {
      "cell_type": "markdown",
      "metadata": {
        "id": "hUGPfQeXuh6O"
      },
      "source": [
        "# Fundamentals of machine learning"
      ]
    },
    {
      "cell_type": "markdown",
      "metadata": {
        "id": "7PXetZ8huh6P"
      },
      "source": [
        "## Generalization: The goal of machine learning"
      ]
    },
    {
      "cell_type": "markdown",
      "metadata": {
        "id": "TsYzAq1nuh6Q"
      },
      "source": [
        "### Underfitting and overfitting"
      ]
    },
    {
      "cell_type": "markdown",
      "metadata": {
        "id": "enf8rdWGuh6R"
      },
      "source": [
        "#### Noisy training data"
      ]
    },
    {
      "cell_type": "markdown",
      "metadata": {
        "id": "EmFfgnyIuh6S"
      },
      "source": [
        "#### Ambiguous features"
      ]
    },
    {
      "cell_type": "markdown",
      "metadata": {
        "id": "ThcrUi4fuh6S"
      },
      "source": [
        "#### Rare features and spurious correlations"
      ]
    },
    {
      "cell_type": "markdown",
      "metadata": {
        "id": "N3DScphVuh6S"
      },
      "source": [
        "**Adding white-noise channels or all-zeros channels to MNIST**"
      ]
    },
    {
      "cell_type": "code",
      "execution_count": 10,
      "metadata": {
        "id": "mCIV5gPHuh6T"
      },
      "outputs": [],
      "source": [
        "from tensorflow.keras.datasets import mnist\n",
        "import numpy as np\n",
        "\n",
        "(train_images, train_labels), _ = mnist.load_data()\n",
        "train_images = train_images.reshape((60000, 28 * 28))\n",
        "train_images = train_images.astype(\"float32\") / 255\n",
        "\n",
        "train_images_with_noise_channels = np.concatenate(\n",
        "    [train_images, np.random.random((len(train_images), 784))], axis=1)\n",
        "\n",
        "train_images_with_zeros_channels = np.concatenate(\n",
        "    [train_images, np.zeros((len(train_images), 784))], axis=1)"
      ]
    },
    {
      "cell_type": "markdown",
      "metadata": {
        "id": "38xKNYVbuh6U"
      },
      "source": [
        "**Training the same model on MNIST data with noise channels or all-zero channels**"
      ]
    },
    {
      "cell_type": "code",
      "execution_count": 11,
      "metadata": {
        "id": "RFDbcl4-uh6U",
        "outputId": "e0a2f41c-140e-4744-b996-4496e0b9ff6f",
        "colab": {
          "base_uri": "https://localhost:8080/"
        }
      },
      "outputs": [
        {
          "output_type": "stream",
          "name": "stdout",
          "text": [
            "Epoch 1/10\n",
            "375/375 [==============================] - 3s 6ms/step - loss: 0.6301 - accuracy: 0.8080 - val_loss: 0.2761 - val_accuracy: 0.9157\n",
            "Epoch 2/10\n",
            "375/375 [==============================] - 2s 5ms/step - loss: 0.2651 - accuracy: 0.9188 - val_loss: 0.1911 - val_accuracy: 0.9423\n",
            "Epoch 3/10\n",
            "375/375 [==============================] - 1s 4ms/step - loss: 0.1739 - accuracy: 0.9464 - val_loss: 0.1887 - val_accuracy: 0.9442\n",
            "Epoch 4/10\n",
            "375/375 [==============================] - 1s 4ms/step - loss: 0.1241 - accuracy: 0.9618 - val_loss: 0.1474 - val_accuracy: 0.9546\n",
            "Epoch 5/10\n",
            "375/375 [==============================] - 1s 4ms/step - loss: 0.0900 - accuracy: 0.9720 - val_loss: 0.1381 - val_accuracy: 0.9609\n",
            "Epoch 6/10\n",
            "375/375 [==============================] - 1s 4ms/step - loss: 0.0675 - accuracy: 0.9785 - val_loss: 0.1419 - val_accuracy: 0.9578\n",
            "Epoch 7/10\n",
            "375/375 [==============================] - 1s 4ms/step - loss: 0.0496 - accuracy: 0.9843 - val_loss: 0.1384 - val_accuracy: 0.9629\n",
            "Epoch 8/10\n",
            "375/375 [==============================] - 1s 3ms/step - loss: 0.0377 - accuracy: 0.9887 - val_loss: 0.1337 - val_accuracy: 0.9643\n",
            "Epoch 9/10\n",
            "375/375 [==============================] - 1s 3ms/step - loss: 0.0266 - accuracy: 0.9920 - val_loss: 0.1312 - val_accuracy: 0.9682\n",
            "Epoch 10/10\n",
            "375/375 [==============================] - 1s 4ms/step - loss: 0.0215 - accuracy: 0.9936 - val_loss: 0.2428 - val_accuracy: 0.9389\n",
            "Epoch 1/10\n",
            "375/375 [==============================] - 2s 4ms/step - loss: 0.2990 - accuracy: 0.9132 - val_loss: 0.1506 - val_accuracy: 0.9574\n",
            "Epoch 2/10\n",
            "375/375 [==============================] - 1s 3ms/step - loss: 0.1235 - accuracy: 0.9643 - val_loss: 0.1153 - val_accuracy: 0.9658\n",
            "Epoch 3/10\n",
            "375/375 [==============================] - 1s 4ms/step - loss: 0.0810 - accuracy: 0.9762 - val_loss: 0.0881 - val_accuracy: 0.9733\n",
            "Epoch 4/10\n",
            "375/375 [==============================] - 2s 5ms/step - loss: 0.0577 - accuracy: 0.9826 - val_loss: 0.0912 - val_accuracy: 0.9732\n",
            "Epoch 5/10\n",
            "375/375 [==============================] - 1s 4ms/step - loss: 0.0433 - accuracy: 0.9874 - val_loss: 0.0788 - val_accuracy: 0.9772\n",
            "Epoch 6/10\n",
            "375/375 [==============================] - 1s 4ms/step - loss: 0.0337 - accuracy: 0.9904 - val_loss: 0.0738 - val_accuracy: 0.9787\n",
            "Epoch 7/10\n",
            "375/375 [==============================] - 2s 4ms/step - loss: 0.0247 - accuracy: 0.9928 - val_loss: 0.0719 - val_accuracy: 0.9796\n",
            "Epoch 8/10\n",
            "375/375 [==============================] - 1s 3ms/step - loss: 0.0189 - accuracy: 0.9946 - val_loss: 0.0729 - val_accuracy: 0.9797\n",
            "Epoch 9/10\n",
            "375/375 [==============================] - 1s 3ms/step - loss: 0.0140 - accuracy: 0.9964 - val_loss: 0.0702 - val_accuracy: 0.9790\n",
            "Epoch 10/10\n",
            "375/375 [==============================] - 1s 3ms/step - loss: 0.0104 - accuracy: 0.9976 - val_loss: 0.0761 - val_accuracy: 0.9797\n",
            "Epoch 1/10\n",
            "375/375 [==============================] - 2s 4ms/step - loss: 0.2979 - accuracy: 0.9139 - val_loss: 0.1531 - val_accuracy: 0.9561\n",
            "Epoch 2/10\n",
            "375/375 [==============================] - 1s 3ms/step - loss: 0.1223 - accuracy: 0.9636 - val_loss: 0.1020 - val_accuracy: 0.9701\n",
            "Epoch 3/10\n",
            "375/375 [==============================] - 1s 4ms/step - loss: 0.0803 - accuracy: 0.9764 - val_loss: 0.0867 - val_accuracy: 0.9747\n",
            "Epoch 4/10\n",
            "375/375 [==============================] - 1s 3ms/step - loss: 0.0592 - accuracy: 0.9818 - val_loss: 0.0836 - val_accuracy: 0.9739\n",
            "Epoch 5/10\n",
            "375/375 [==============================] - 1s 3ms/step - loss: 0.0440 - accuracy: 0.9867 - val_loss: 0.0821 - val_accuracy: 0.9747\n",
            "Epoch 6/10\n",
            "375/375 [==============================] - 2s 4ms/step - loss: 0.0325 - accuracy: 0.9907 - val_loss: 0.0787 - val_accuracy: 0.9757\n",
            "Epoch 7/10\n",
            "375/375 [==============================] - 2s 5ms/step - loss: 0.0251 - accuracy: 0.9929 - val_loss: 0.0749 - val_accuracy: 0.9778\n",
            "Epoch 8/10\n",
            "375/375 [==============================] - 2s 4ms/step - loss: 0.0193 - accuracy: 0.9949 - val_loss: 0.0815 - val_accuracy: 0.9766\n",
            "Epoch 9/10\n",
            "375/375 [==============================] - 1s 3ms/step - loss: 0.0142 - accuracy: 0.9964 - val_loss: 0.0754 - val_accuracy: 0.9794\n",
            "Epoch 10/10\n",
            "375/375 [==============================] - 1s 3ms/step - loss: 0.0103 - accuracy: 0.9975 - val_loss: 0.0762 - val_accuracy: 0.9800\n"
          ]
        }
      ],
      "source": [
        "from tensorflow import keras\n",
        "from tensorflow.keras import layers\n",
        "\n",
        "def get_model():\n",
        "    model = keras.Sequential([\n",
        "        layers.Dense(512, activation=\"relu\"),\n",
        "        layers.Dense(10, activation=\"softmax\")\n",
        "    ])\n",
        "    model.compile(optimizer=\"rmsprop\",\n",
        "                  loss=\"sparse_categorical_crossentropy\",\n",
        "                  metrics=[\"accuracy\"])\n",
        "    return model\n",
        "\n",
        "model = get_model()\n",
        "history_noise = model.fit(\n",
        "    train_images_with_noise_channels, train_labels,\n",
        "    epochs=10,\n",
        "    batch_size=128,\n",
        "    validation_split=0.2)\n",
        "\n",
        "model = get_model()\n",
        "history_zeros = model.fit(\n",
        "    train_images_with_zeros_channels, train_labels,\n",
        "    epochs=10,\n",
        "    batch_size=128,\n",
        "    validation_split=0.2)\n",
        "\n",
        "model = get_model()\n",
        "history_original = model.fit(\n",
        "    train_images, train_labels,\n",
        "    epochs=10,\n",
        "    batch_size=128,\n",
        "    validation_split=0.2)"
      ]
    },
    {
      "cell_type": "markdown",
      "metadata": {
        "id": "jFvKGgbuuh6V"
      },
      "source": [
        "**Plotting a validation accuracy comparison**"
      ]
    },
    {
      "cell_type": "code",
      "execution_count": 14,
      "metadata": {
        "id": "vVaD_mxZuh6V",
        "outputId": "a1a0cb0c-6b1a-4730-d1f0-71fc5345bfa1",
        "colab": {
          "base_uri": "https://localhost:8080/",
          "height": 489
        }
      },
      "outputs": [
        {
          "output_type": "execute_result",
          "data": {
            "text/plain": [
              "<matplotlib.legend.Legend at 0x7fdbb86bcdf0>"
            ]
          },
          "metadata": {},
          "execution_count": 14
        },
        {
          "output_type": "display_data",
          "data": {
            "text/plain": [
              "<Figure size 640x480 with 1 Axes>"
            ],
            "image/png": "[encoded data removed]"
          },
          "metadata": {}
        }
      ],
      "source": [
        "import matplotlib.pyplot as plt\n",
        "val_acc_noise = history_noise.history[\"val_accuracy\"]\n",
        "val_acc_zeros = history_zeros.history[\"val_accuracy\"]\n",
        "val_acc_original = history_original.history[\"val_accuracy\"]\n",
        "epochs = range(1, 11)\n",
        "plt.plot(epochs, val_acc_noise, \"b-\",\n",
        "         label=\"Validation accuracy with noise channels\")\n",
        "plt.plot(epochs, val_acc_zeros, \"b--\",\n",
        "         label=\"Validation accuracy with zeros channels\")\n",
        "plt.plot(epochs, val_acc_original, \"r--\",\n",
        "         label=\"Validation accuracy with orginal data\")\n",
        "plt.title(\"Effect of noise channels on validation accuracy\")\n",
        "plt.xlabel(\"Epochs\")\n",
        "plt.ylabel(\"Accuracy\")\n",
        "plt.legend()"
      ]
    },
    {
      "cell_type": "markdown",
      "metadata": {
        "id": "FyogTDoquh6W"
      },
      "source": [
        "### The nature of generalization in deep learning"
      ]
    },
    {
      "cell_type": "markdown",
      "metadata": {
        "id": "cg9M8-LLuh6X"
      },
      "source": [
        "**Fitting a MNIST model with randomly shuffled labels**"
      ]
    },
    {
      "cell_type": "code",
      "execution_count": 36,
      "metadata": {
        "id": "RarqiHXGuh6X",
        "outputId": "198671dd-5c38-43b8-eae1-df4541cc61b6",
        "colab": {
          "base_uri": "https://localhost:8080/"
        }
      },
      "outputs": [
        {
          "output_type": "stream",
          "name": "stdout",
          "text": [
            "Epoch 1/100\n",
            "375/375 [==============================] - 2s 4ms/step - loss: 2.3141 - accuracy: 0.1044 - val_loss: 2.3055 - val_accuracy: 0.1037\n",
            "Epoch 2/100\n",
            "375/375 [==============================] - 2s 4ms/step - loss: 2.2988 - accuracy: 0.1159 - val_loss: 2.3124 - val_accuracy: 0.1030\n",
            "Epoch 3/100\n",
            "375/375 [==============================] - 1s 4ms/step - loss: 2.2907 - accuracy: 0.1281 - val_loss: 2.3167 - val_accuracy: 0.1089\n",
            "Epoch 4/100\n",
            "375/375 [==============================] - 1s 3ms/step - loss: 2.2794 - accuracy: 0.1395 - val_loss: 2.3307 - val_accuracy: 0.1050\n",
            "Epoch 5/100\n",
            "375/375 [==============================] - 1s 3ms/step - loss: 2.2654 - accuracy: 0.1497 - val_loss: 2.3341 - val_accuracy: 0.1053\n",
            "Epoch 6/100\n",
            "375/375 [==============================] - 1s 3ms/step - loss: 2.2453 - accuracy: 0.1645 - val_loss: 2.3504 - val_accuracy: 0.1004\n",
            "Epoch 7/100\n",
            "375/375 [==============================] - 2s 4ms/step - loss: 2.2245 - accuracy: 0.1762 - val_loss: 2.3621 - val_accuracy: 0.1059\n",
            "Epoch 8/100\n",
            "375/375 [==============================] - 1s 4ms/step - loss: 2.1970 - accuracy: 0.1918 - val_loss: 2.3848 - val_accuracy: 0.1035\n",
            "Epoch 9/100\n",
            "375/375 [==============================] - 1s 3ms/step - loss: 2.1693 - accuracy: 0.2099 - val_loss: 2.4066 - val_accuracy: 0.1023\n",
            "Epoch 10/100\n",
            "375/375 [==============================] - 1s 3ms/step - loss: 2.1365 - accuracy: 0.2236 - val_loss: 2.4198 - val_accuracy: 0.0992\n",
            "Epoch 11/100\n",
            "375/375 [==============================] - 1s 3ms/step - loss: 2.1028 - accuracy: 0.2420 - val_loss: 2.4404 - val_accuracy: 0.1042\n",
            "Epoch 12/100\n",
            "375/375 [==============================] - 1s 3ms/step - loss: 2.0654 - accuracy: 0.2596 - val_loss: 2.4674 - val_accuracy: 0.0994\n",
            "Epoch 13/100\n",
            "375/375 [==============================] - 1s 3ms/step - loss: 2.0293 - accuracy: 0.2760 - val_loss: 2.4961 - val_accuracy: 0.1002\n",
            "Epoch 14/100\n",
            "375/375 [==============================] - 1s 3ms/step - loss: 1.9887 - accuracy: 0.2935 - val_loss: 2.5452 - val_accuracy: 0.0999\n",
            "Epoch 15/100\n",
            "375/375 [==============================] - 1s 3ms/step - loss: 1.9496 - accuracy: 0.3069 - val_loss: 2.5649 - val_accuracy: 0.1026\n",
            "Epoch 16/100\n",
            "375/375 [==============================] - 1s 4ms/step - loss: 1.9103 - accuracy: 0.3256 - val_loss: 2.5916 - val_accuracy: 0.1042\n",
            "Epoch 17/100\n",
            "375/375 [==============================] - 2s 4ms/step - loss: 1.8724 - accuracy: 0.3447 - val_loss: 2.6245 - val_accuracy: 0.0983\n",
            "Epoch 18/100\n",
            "375/375 [==============================] - 1s 4ms/step - loss: 1.8338 - accuracy: 0.3585 - val_loss: 2.6750 - val_accuracy: 0.1018\n",
            "Epoch 19/100\n",
            "375/375 [==============================] - 1s 4ms/step - loss: 1.7945 - accuracy: 0.3729 - val_loss: 2.7130 - val_accuracy: 0.1014\n",
            "Epoch 20/100\n",
            "375/375 [==============================] - 1s 3ms/step - loss: 1.7543 - accuracy: 0.3886 - val_loss: 2.7383 - val_accuracy: 0.1024\n",
            "Epoch 21/100\n",
            "375/375 [==============================] - 1s 3ms/step - loss: 1.7166 - accuracy: 0.4045 - val_loss: 2.7874 - val_accuracy: 0.1010\n",
            "Epoch 22/100\n",
            "375/375 [==============================] - 1s 3ms/step - loss: 1.6786 - accuracy: 0.4202 - val_loss: 2.8282 - val_accuracy: 0.1034\n",
            "Epoch 23/100\n",
            "375/375 [==============================] - 1s 3ms/step - loss: 1.6439 - accuracy: 0.4323 - val_loss: 2.8820 - val_accuracy: 0.0975\n",
            "Epoch 24/100\n",
            "375/375 [==============================] - 1s 3ms/step - loss: 1.6070 - accuracy: 0.4484 - val_loss: 2.9417 - val_accuracy: 0.0971\n",
            "Epoch 25/100\n",
            "375/375 [==============================] - 1s 3ms/step - loss: 1.5701 - accuracy: 0.4606 - val_loss: 2.9773 - val_accuracy: 0.0970\n",
            "Epoch 26/100\n",
            "375/375 [==============================] - 2s 4ms/step - loss: 1.5353 - accuracy: 0.4740 - val_loss: 3.0258 - val_accuracy: 0.0995\n",
            "Epoch 27/100\n",
            "375/375 [==============================] - 2s 4ms/step - loss: 1.5031 - accuracy: 0.4872 - val_loss: 3.0658 - val_accuracy: 0.1020\n",
            "Epoch 28/100\n",
            "375/375 [==============================] - 1s 3ms/step - loss: 1.4693 - accuracy: 0.4990 - val_loss: 3.1200 - val_accuracy: 0.1002\n",
            "Epoch 29/100\n",
            "375/375 [==============================] - 1s 3ms/step - loss: 1.4356 - accuracy: 0.5102 - val_loss: 3.1556 - val_accuracy: 0.1005\n",
            "Epoch 30/100\n",
            "375/375 [==============================] - 1s 3ms/step - loss: 1.4068 - accuracy: 0.5226 - val_loss: 3.2153 - val_accuracy: 0.0997\n",
            "Epoch 31/100\n",
            "375/375 [==============================] - 1s 3ms/step - loss: 1.3751 - accuracy: 0.5341 - val_loss: 3.2697 - val_accuracy: 0.1039\n",
            "Epoch 32/100\n",
            "375/375 [==============================] - 1s 4ms/step - loss: 1.3449 - accuracy: 0.5464 - val_loss: 3.3187 - val_accuracy: 0.1009\n",
            "Epoch 33/100\n",
            "375/375 [==============================] - 1s 4ms/step - loss: 1.3160 - accuracy: 0.5540 - val_loss: 3.3690 - val_accuracy: 0.1037\n",
            "Epoch 34/100\n",
            "375/375 [==============================] - 2s 5ms/step - loss: 1.2861 - accuracy: 0.5643 - val_loss: 3.4442 - val_accuracy: 0.1019\n",
            "Epoch 35/100\n",
            "375/375 [==============================] - 2s 5ms/step - loss: 1.2600 - accuracy: 0.5763 - val_loss: 3.4737 - val_accuracy: 0.0995\n",
            "Epoch 36/100\n",
            "375/375 [==============================] - 2s 5ms/step - loss: 1.2308 - accuracy: 0.5876 - val_loss: 3.5165 - val_accuracy: 0.1013\n",
            "Epoch 37/100\n",
            "375/375 [==============================] - 1s 4ms/step - loss: 1.2031 - accuracy: 0.5976 - val_loss: 3.6121 - val_accuracy: 0.1028\n",
            "Epoch 38/100\n",
            "375/375 [==============================] - 1s 4ms/step - loss: 1.1795 - accuracy: 0.6036 - val_loss: 3.6391 - val_accuracy: 0.1021\n",
            "Epoch 39/100\n",
            "375/375 [==============================] - 1s 3ms/step - loss: 1.1516 - accuracy: 0.6147 - val_loss: 3.7231 - val_accuracy: 0.0998\n",
            "Epoch 40/100\n",
            "375/375 [==============================] - 1s 3ms/step - loss: 1.1286 - accuracy: 0.6239 - val_loss: 3.7826 - val_accuracy: 0.0999\n",
            "Epoch 41/100\n",
            "375/375 [==============================] - 1s 4ms/step - loss: 1.1044 - accuracy: 0.6308 - val_loss: 3.8237 - val_accuracy: 0.0999\n",
            "Epoch 42/100\n",
            "375/375 [==============================] - 1s 3ms/step - loss: 1.0788 - accuracy: 0.6398 - val_loss: 3.9116 - val_accuracy: 0.1043\n",
            "Epoch 43/100\n",
            "375/375 [==============================] - 1s 3ms/step - loss: 1.0589 - accuracy: 0.6459 - val_loss: 3.9510 - val_accuracy: 0.1024\n",
            "Epoch 44/100\n",
            "375/375 [==============================] - 2s 4ms/step - loss: 1.0353 - accuracy: 0.6551 - val_loss: 4.0132 - val_accuracy: 0.1020\n",
            "Epoch 45/100\n",
            "375/375 [==============================] - 1s 4ms/step - loss: 1.0145 - accuracy: 0.6650 - val_loss: 4.1001 - val_accuracy: 0.1028\n",
            "Epoch 46/100\n",
            "375/375 [==============================] - 1s 3ms/step - loss: 0.9927 - accuracy: 0.6696 - val_loss: 4.1654 - val_accuracy: 0.0989\n",
            "Epoch 47/100\n",
            "375/375 [==============================] - 1s 4ms/step - loss: 0.9719 - accuracy: 0.6796 - val_loss: 4.2476 - val_accuracy: 0.0995\n",
            "Epoch 48/100\n",
            "375/375 [==============================] - 1s 3ms/step - loss: 0.9523 - accuracy: 0.6854 - val_loss: 4.2826 - val_accuracy: 0.1011\n",
            "Epoch 49/100\n",
            "375/375 [==============================] - 1s 3ms/step - loss: 0.9311 - accuracy: 0.6929 - val_loss: 4.3600 - val_accuracy: 0.0991\n",
            "Epoch 50/100\n",
            "375/375 [==============================] - 1s 3ms/step - loss: 0.9116 - accuracy: 0.6998 - val_loss: 4.4403 - val_accuracy: 0.1053\n",
            "Epoch 51/100\n",
            "375/375 [==============================] - 1s 3ms/step - loss: 0.8936 - accuracy: 0.7062 - val_loss: 4.4903 - val_accuracy: 0.0983\n",
            "Epoch 52/100\n",
            "375/375 [==============================] - 1s 3ms/step - loss: 0.8758 - accuracy: 0.7121 - val_loss: 4.5302 - val_accuracy: 0.0999\n",
            "Epoch 53/100\n",
            "375/375 [==============================] - 1s 4ms/step - loss: 0.8557 - accuracy: 0.7193 - val_loss: 4.6019 - val_accuracy: 0.0988\n",
            "Epoch 54/100\n",
            "375/375 [==============================] - 2s 4ms/step - loss: 0.8401 - accuracy: 0.7234 - val_loss: 4.6813 - val_accuracy: 0.1023\n",
            "Epoch 55/100\n",
            "375/375 [==============================] - 1s 3ms/step - loss: 0.8201 - accuracy: 0.7310 - val_loss: 4.7404 - val_accuracy: 0.1014\n",
            "Epoch 56/100\n",
            "375/375 [==============================] - 1s 3ms/step - loss: 0.8027 - accuracy: 0.7381 - val_loss: 4.7895 - val_accuracy: 0.0992\n",
            "Epoch 57/100\n",
            "375/375 [==============================] - 1s 3ms/step - loss: 0.7887 - accuracy: 0.7409 - val_loss: 4.8803 - val_accuracy: 0.1007\n",
            "Epoch 58/100\n",
            "375/375 [==============================] - 1s 3ms/step - loss: 0.7681 - accuracy: 0.7488 - val_loss: 4.9476 - val_accuracy: 0.1012\n",
            "Epoch 59/100\n",
            "375/375 [==============================] - 1s 3ms/step - loss: 0.7549 - accuracy: 0.7559 - val_loss: 5.0346 - val_accuracy: 0.0961\n",
            "Epoch 60/100\n",
            "375/375 [==============================] - 1s 3ms/step - loss: 0.7397 - accuracy: 0.7595 - val_loss: 5.0806 - val_accuracy: 0.1010\n",
            "Epoch 61/100\n",
            "375/375 [==============================] - 1s 3ms/step - loss: 0.7273 - accuracy: 0.7623 - val_loss: 5.1751 - val_accuracy: 0.0967\n",
            "Epoch 62/100\n",
            "375/375 [==============================] - 2s 5ms/step - loss: 0.7109 - accuracy: 0.7704 - val_loss: 5.2132 - val_accuracy: 0.1026\n",
            "Epoch 63/100\n",
            "375/375 [==============================] - 2s 5ms/step - loss: 0.6961 - accuracy: 0.7741 - val_loss: 5.3125 - val_accuracy: 0.0986\n",
            "Epoch 64/100\n",
            "375/375 [==============================] - 1s 4ms/step - loss: 0.6842 - accuracy: 0.7783 - val_loss: 5.3867 - val_accuracy: 0.0988\n",
            "Epoch 65/100\n",
            "375/375 [==============================] - 1s 3ms/step - loss: 0.6710 - accuracy: 0.7829 - val_loss: 5.4581 - val_accuracy: 0.0990\n",
            "Epoch 66/100\n",
            "375/375 [==============================] - 1s 3ms/step - loss: 0.6554 - accuracy: 0.7887 - val_loss: 5.5042 - val_accuracy: 0.1027\n",
            "Epoch 67/100\n",
            "375/375 [==============================] - 1s 3ms/step - loss: 0.6424 - accuracy: 0.7932 - val_loss: 5.5780 - val_accuracy: 0.0997\n",
            "Epoch 68/100\n",
            "375/375 [==============================] - 1s 3ms/step - loss: 0.6297 - accuracy: 0.7961 - val_loss: 5.6551 - val_accuracy: 0.0982\n",
            "Epoch 69/100\n",
            "375/375 [==============================] - 1s 3ms/step - loss: 0.6163 - accuracy: 0.8030 - val_loss: 5.7605 - val_accuracy: 0.1012\n",
            "Epoch 70/100\n",
            "375/375 [==============================] - 1s 4ms/step - loss: 0.6050 - accuracy: 0.8063 - val_loss: 5.8249 - val_accuracy: 0.0994\n",
            "Epoch 71/100\n",
            "375/375 [==============================] - 2s 5ms/step - loss: 0.5927 - accuracy: 0.8101 - val_loss: 5.8529 - val_accuracy: 0.0981\n",
            "Epoch 72/100\n",
            "375/375 [==============================] - 2s 4ms/step - loss: 0.5822 - accuracy: 0.8138 - val_loss: 5.9288 - val_accuracy: 0.1001\n",
            "Epoch 73/100\n",
            "375/375 [==============================] - 1s 3ms/step - loss: 0.5715 - accuracy: 0.8163 - val_loss: 6.0242 - val_accuracy: 0.1033\n",
            "Epoch 74/100\n",
            "375/375 [==============================] - 1s 3ms/step - loss: 0.5599 - accuracy: 0.8205 - val_loss: 6.1102 - val_accuracy: 0.0983\n",
            "Epoch 75/100\n",
            "375/375 [==============================] - 1s 3ms/step - loss: 0.5471 - accuracy: 0.8258 - val_loss: 6.1617 - val_accuracy: 0.0990\n",
            "Epoch 76/100\n",
            "375/375 [==============================] - 1s 3ms/step - loss: 0.5380 - accuracy: 0.8284 - val_loss: 6.2451 - val_accuracy: 0.0994\n",
            "Epoch 77/100\n",
            "375/375 [==============================] - 1s 3ms/step - loss: 0.5258 - accuracy: 0.8324 - val_loss: 6.3591 - val_accuracy: 0.0969\n",
            "Epoch 78/100\n",
            "375/375 [==============================] - 1s 3ms/step - loss: 0.5163 - accuracy: 0.8364 - val_loss: 6.3931 - val_accuracy: 0.1023\n",
            "Epoch 79/100\n",
            "375/375 [==============================] - 1s 3ms/step - loss: 0.5057 - accuracy: 0.8391 - val_loss: 6.5042 - val_accuracy: 0.0995\n",
            "Epoch 80/100\n",
            "375/375 [==============================] - 1s 3ms/step - loss: 0.4978 - accuracy: 0.8428 - val_loss: 6.5869 - val_accuracy: 0.1003\n",
            "Epoch 81/100\n",
            "375/375 [==============================] - 2s 4ms/step - loss: 0.4862 - accuracy: 0.8462 - val_loss: 6.6369 - val_accuracy: 0.0997\n",
            "Epoch 82/100\n",
            "375/375 [==============================] - 2s 4ms/step - loss: 0.4777 - accuracy: 0.8500 - val_loss: 6.7255 - val_accuracy: 0.0975\n",
            "Epoch 83/100\n",
            "375/375 [==============================] - 1s 3ms/step - loss: 0.4681 - accuracy: 0.8531 - val_loss: 6.7893 - val_accuracy: 0.1009\n",
            "Epoch 84/100\n",
            "375/375 [==============================] - 1s 3ms/step - loss: 0.4604 - accuracy: 0.8540 - val_loss: 6.8395 - val_accuracy: 0.1005\n",
            "Epoch 85/100\n",
            "375/375 [==============================] - 1s 3ms/step - loss: 0.4513 - accuracy: 0.8570 - val_loss: 6.9363 - val_accuracy: 0.1027\n",
            "Epoch 86/100\n",
            "375/375 [==============================] - 1s 3ms/step - loss: 0.4409 - accuracy: 0.8618 - val_loss: 6.9945 - val_accuracy: 0.1003\n",
            "Epoch 87/100\n",
            "375/375 [==============================] - 1s 3ms/step - loss: 0.4313 - accuracy: 0.8650 - val_loss: 7.1553 - val_accuracy: 0.0991\n",
            "Epoch 88/100\n",
            "375/375 [==============================] - 1s 3ms/step - loss: 0.4240 - accuracy: 0.8685 - val_loss: 7.1818 - val_accuracy: 0.0974\n",
            "Epoch 89/100\n",
            "375/375 [==============================] - 1s 3ms/step - loss: 0.4184 - accuracy: 0.8695 - val_loss: 7.2346 - val_accuracy: 0.0987\n",
            "Epoch 90/100\n",
            "375/375 [==============================] - 1s 4ms/step - loss: 0.4110 - accuracy: 0.8710 - val_loss: 7.3262 - val_accuracy: 0.0993\n",
            "Epoch 91/100\n",
            "375/375 [==============================] - 2s 4ms/step - loss: 0.3999 - accuracy: 0.8759 - val_loss: 7.3936 - val_accuracy: 0.1021\n",
            "Epoch 92/100\n",
            "375/375 [==============================] - 1s 3ms/step - loss: 0.3955 - accuracy: 0.8769 - val_loss: 7.4118 - val_accuracy: 0.0998\n",
            "Epoch 93/100\n",
            "375/375 [==============================] - 1s 3ms/step - loss: 0.3877 - accuracy: 0.8783 - val_loss: 7.5573 - val_accuracy: 0.1007\n",
            "Epoch 94/100\n",
            "375/375 [==============================] - 1s 3ms/step - loss: 0.3795 - accuracy: 0.8824 - val_loss: 7.6023 - val_accuracy: 0.0986\n",
            "Epoch 95/100\n",
            "375/375 [==============================] - 1s 3ms/step - loss: 0.3722 - accuracy: 0.8855 - val_loss: 7.7015 - val_accuracy: 0.0972\n",
            "Epoch 96/100\n",
            "375/375 [==============================] - 1s 4ms/step - loss: 0.3667 - accuracy: 0.8878 - val_loss: 7.7431 - val_accuracy: 0.0998\n",
            "Epoch 97/100\n",
            "375/375 [==============================] - 1s 4ms/step - loss: 0.3579 - accuracy: 0.8893 - val_loss: 7.8539 - val_accuracy: 0.0975\n",
            "Epoch 98/100\n",
            "375/375 [==============================] - 1s 4ms/step - loss: 0.3529 - accuracy: 0.8910 - val_loss: 7.9599 - val_accuracy: 0.1004\n",
            "Epoch 99/100\n",
            "375/375 [==============================] - 2s 5ms/step - loss: 0.3474 - accuracy: 0.8924 - val_loss: 8.0090 - val_accuracy: 0.0997\n",
            "Epoch 100/100\n",
            "375/375 [==============================] - 2s 4ms/step - loss: 0.3386 - accuracy: 0.8959 - val_loss: 8.0332 - val_accuracy: 0.1030\n"
          ]
        }
      ],
      "source": [
        "(train_images, train_labels), _ = mnist.load_data()\n",
        "train_images = train_images.reshape((60000, 28 * 28))\n",
        "train_images = train_images.astype(\"float32\") / 255\n",
        "\n",
        "random_train_labels = train_labels[:]\n",
        "np.random.shuffle(random_train_labels)\n",
        "\n",
        "model = keras.Sequential([\n",
        "    layers.Dense(512, activation=\"relu\"),\n",
        "    layers.Dense(10, activation=\"softmax\")\n",
        "])\n",
        "model.compile(optimizer=\"rmsprop\",\n",
        "              loss=\"sparse_categorical_crossentropy\",\n",
        "              metrics=[\"accuracy\"])\n",
        "\n",
        "history = model.fit(train_images, random_train_labels,\n",
        "          epochs=100,\n",
        "          batch_size=128,\n",
        "          validation_split=0.2)"
      ]
    },
    {
      "cell_type": "code",
      "source": [
        "import matplotlib.pyplot as plt\n",
        "val_accuracy = history.history[\"val_accuracy\"]\n",
        "train_accuracy = history.history[\"accuracy\"]\n",
        "epochs = range(0, len(train_accuracy))\n",
        "plt.plot(epochs, val_accuracy, \"bo\",\n",
        "         label=\"Validation accuracy with shuffled data\")\n",
        "plt.plot(epochs, train_accuracy, \"r--\",\n",
        "         label=\"Training accuracy with shuffled data\")\n",
        "plt.title(\"Training meaningless data\")\n",
        "plt.xlabel(\"Epochs\")\n",
        "plt.ylabel(\"Accuracy\")\n",
        "plt.legend()"
      ],
      "metadata": {
        "id": "KS2eoEYM44Gy",
        "outputId": "3893c964-fe8d-499c-9ae9-441d5b6b6587",
        "colab": {
          "base_uri": "https://localhost:8080/",
          "height": 489
        }
      },
      "execution_count": 38,
      "outputs": [
        {
          "output_type": "execute_result",
          "data": {
            "text/plain": [
              "<matplotlib.legend.Legend at 0x7fdba69d0df0>"
            ]
          },
          "metadata": {},
          "execution_count": 38
        },
        {
          "output_type": "display_data",
          "data": {
            "text/plain": [
              "<Figure size 640x480 with 1 Axes>"
            ],
            "image/png": "[encoded data removed]"
          },
          "metadata": {}
        }
      ]
    },
    {
      "cell_type": "markdown",
      "metadata": {
        "id": "OPIAbmXQuh6Y"
      },
      "source": [
        "#### The manifold hypothesis"
      ]
    },
    {
      "cell_type": "markdown",
      "metadata": {
        "id": "9KioOvUEuh6Y"
      },
      "source": [
        "#### Interpolation as a source of generalization"
      ]
    },
    {
      "cell_type": "markdown",
      "metadata": {
        "id": "_fJW346cuh6Z"
      },
      "source": [
        "#### Why deep learning works"
      ]
    },
    {
      "cell_type": "markdown",
      "metadata": {
        "id": "z6Zb6dDxuh6Z"
      },
      "source": [
        "#### Training data is paramount"
      ]
    },
    {
      "cell_type": "markdown",
      "metadata": {
        "id": "LEPELC3Duh6a"
      },
      "source": [
        "## Evaluating machine-learning models"
      ]
    },
    {
      "cell_type": "markdown",
      "metadata": {
        "id": "lbt0E3MDuh6a"
      },
      "source": [
        "### Training, validation, and test sets"
      ]
    },
    {
      "cell_type": "markdown",
      "metadata": {
        "id": "jtZzdFKZuh6a"
      },
      "source": [
        "#### Simple hold-out validation"
      ]
    },
    {
      "cell_type": "markdown",
      "metadata": {
        "id": "Mwj6gXO6uh6b"
      },
      "source": [
        "#### K-fold validation"
      ]
    },
    {
      "cell_type": "markdown",
      "metadata": {
        "id": "2rfktGnIuh6b"
      },
      "source": [
        "#### Iterated K-fold validation with shuffling"
      ]
    },
    {
      "cell_type": "markdown",
      "metadata": {
        "id": "w6OMWoscuh6b"
      },
      "source": [
        "### Beating a common-sense baseline"
      ]
    },
    {
      "cell_type": "markdown",
      "metadata": {
        "id": "H4YorrqLuh6c"
      },
      "source": [
        "### Things to keep in mind about model evaluation"
      ]
    },
    {
      "cell_type": "markdown",
      "metadata": {
        "id": "1WPul1Wuuh6c"
      },
      "source": [
        "## Improving model fit"
      ]
    },
    {
      "cell_type": "markdown",
      "metadata": {
        "id": "zNQ_baA3uh6c"
      },
      "source": [
        "### Tuning key gradient descent parameters"
      ]
    },
    {
      "cell_type": "markdown",
      "metadata": {
        "id": "5a44aHSfuh6c"
      },
      "source": [
        "**Training a MNIST model with an incorrectly high learning rate**"
      ]
    },
    {
      "cell_type": "code",
      "execution_count": 39,
      "metadata": {
        "id": "sjryDAW1uh6d",
        "outputId": "fd213ca5-7a35-4241-a37b-b5756b447b88",
        "colab": {
          "base_uri": "https://localhost:8080/"
        }
      },
      "outputs": [
        {
          "output_type": "stream",
          "name": "stdout",
          "text": [
            "Epoch 1/10\n",
            "375/375 [==============================] - 3s 5ms/step - loss: 712.2477 - accuracy: 0.3265 - val_loss: 2.6107 - val_accuracy: 0.1782\n",
            "Epoch 2/10\n",
            "375/375 [==============================] - 2s 4ms/step - loss: 2.5008 - accuracy: 0.1981 - val_loss: 2.2839 - val_accuracy: 0.2047\n",
            "Epoch 3/10\n",
            "375/375 [==============================] - 1s 4ms/step - loss: 2.4621 - accuracy: 0.1882 - val_loss: 2.2348 - val_accuracy: 0.1954\n",
            "Epoch 4/10\n",
            "375/375 [==============================] - 1s 4ms/step - loss: 2.6305 - accuracy: 0.1913 - val_loss: 2.2243 - val_accuracy: 0.1966\n",
            "Epoch 5/10\n",
            "375/375 [==============================] - 1s 4ms/step - loss: 2.2988 - accuracy: 0.1745 - val_loss: 2.2734 - val_accuracy: 0.1925\n",
            "Epoch 6/10\n",
            "375/375 [==============================] - 1s 3ms/step - loss: 2.3715 - accuracy: 0.1829 - val_loss: 2.3544 - val_accuracy: 0.1918\n",
            "Epoch 7/10\n",
            "375/375 [==============================] - 1s 3ms/step - loss: 2.3623 - accuracy: 0.1881 - val_loss: 2.2997 - val_accuracy: 0.1678\n",
            "Epoch 8/10\n",
            "375/375 [==============================] - 1s 3ms/step - loss: 2.4617 - accuracy: 0.1838 - val_loss: 2.2459 - val_accuracy: 0.2161\n",
            "Epoch 9/10\n",
            "375/375 [==============================] - 1s 3ms/step - loss: 2.2591 - accuracy: 0.1969 - val_loss: 2.2077 - val_accuracy: 0.2077\n",
            "Epoch 10/10\n",
            "375/375 [==============================] - 1s 4ms/step - loss: 2.3420 - accuracy: 0.1965 - val_loss: 2.3876 - val_accuracy: 0.1875\n"
          ]
        },
        {
          "output_type": "execute_result",
          "data": {
            "text/plain": [
              "<keras.callbacks.History at 0x7fdba69ccbe0>"
            ]
          },
          "metadata": {},
          "execution_count": 39
        }
      ],
      "source": [
        "(train_images, train_labels), _ = mnist.load_data()\n",
        "train_images = train_images.reshape((60000, 28 * 28))\n",
        "train_images = train_images.astype(\"float32\") / 255\n",
        "\n",
        "model = keras.Sequential([\n",
        "    layers.Dense(512, activation=\"relu\"),\n",
        "    layers.Dense(10, activation=\"softmax\")\n",
        "])\n",
        "model.compile(optimizer=keras.optimizers.RMSprop(1.),\n",
        "              loss=\"sparse_categorical_crossentropy\",\n",
        "              metrics=[\"accuracy\"])\n",
        "model.fit(train_images, train_labels,\n",
        "          epochs=10,\n",
        "          batch_size=128,\n",
        "          validation_split=0.2)"
      ]
    },
    {
      "cell_type": "markdown",
      "metadata": {
        "id": "0qlnabVAuh6d"
      },
      "source": [
        "**The same model with a more appropriate learning rate**"
      ]
    },
    {
      "cell_type": "code",
      "execution_count": 40,
      "metadata": {
        "id": "QEoPLHnZuh6d",
        "outputId": "7c7645dd-be64-4828-e5e1-fa08471a7bcf",
        "colab": {
          "base_uri": "https://localhost:8080/"
        }
      },
      "outputs": [
        {
          "output_type": "stream",
          "name": "stdout",
          "text": [
            "Epoch 1/10\n",
            "375/375 [==============================] - 2s 4ms/step - loss: 0.3730 - accuracy: 0.9087 - val_loss: 0.1318 - val_accuracy: 0.9613\n",
            "Epoch 2/10\n",
            "375/375 [==============================] - 1s 3ms/step - loss: 0.1252 - accuracy: 0.9650 - val_loss: 0.1312 - val_accuracy: 0.9672\n",
            "Epoch 3/10\n",
            "375/375 [==============================] - 1s 3ms/step - loss: 0.0968 - accuracy: 0.9742 - val_loss: 0.1415 - val_accuracy: 0.9700\n",
            "Epoch 4/10\n",
            "375/375 [==============================] - 1s 3ms/step - loss: 0.0845 - accuracy: 0.9791 - val_loss: 0.1645 - val_accuracy: 0.9673\n",
            "Epoch 5/10\n",
            "375/375 [==============================] - 1s 3ms/step - loss: 0.0707 - accuracy: 0.9826 - val_loss: 0.1911 - val_accuracy: 0.9686\n",
            "Epoch 6/10\n",
            "375/375 [==============================] - 1s 3ms/step - loss: 0.0644 - accuracy: 0.9846 - val_loss: 0.1709 - val_accuracy: 0.9737\n",
            "Epoch 7/10\n",
            "375/375 [==============================] - 2s 4ms/step - loss: 0.0557 - accuracy: 0.9867 - val_loss: 0.2056 - val_accuracy: 0.9702\n",
            "Epoch 8/10\n",
            "375/375 [==============================] - 1s 4ms/step - loss: 0.0473 - accuracy: 0.9887 - val_loss: 0.2014 - val_accuracy: 0.9733\n",
            "Epoch 9/10\n",
            "375/375 [==============================] - 1s 3ms/step - loss: 0.0456 - accuracy: 0.9894 - val_loss: 0.2582 - val_accuracy: 0.9706\n",
            "Epoch 10/10\n",
            "375/375 [==============================] - 1s 3ms/step - loss: 0.0386 - accuracy: 0.9913 - val_loss: 0.2645 - val_accuracy: 0.9694\n"
          ]
        },
        {
          "output_type": "execute_result",
          "data": {
            "text/plain": [
              "<keras.callbacks.History at 0x7fdba0c29f40>"
            ]
          },
          "metadata": {},
          "execution_count": 40
        }
      ],
      "source": [
        "model = keras.Sequential([\n",
        "    layers.Dense(512, activation=\"relu\"),\n",
        "    layers.Dense(10, activation=\"softmax\")\n",
        "])\n",
        "model.compile(optimizer=keras.optimizers.RMSprop(1e-2),\n",
        "              loss=\"sparse_categorical_crossentropy\",\n",
        "              metrics=[\"accuracy\"])\n",
        "model.fit(train_images, train_labels,\n",
        "          epochs=10,\n",
        "          batch_size=128,\n",
        "          validation_split=0.2)"
      ]
    },
    {
      "cell_type": "markdown",
      "metadata": {
        "id": "NycuGa-Suh6d"
      },
      "source": [
        "### Leveraging better architecture priors"
      ]
    },
    {
      "cell_type": "markdown",
      "metadata": {
        "id": "XVAPjxO_uh6d"
      },
      "source": [
        "### Increasing model capacity"
      ]
    },
    {
      "cell_type": "markdown",
      "metadata": {
        "id": "UczUofmzuh6e"
      },
      "source": [
        "**A simple logistic regression on MNIST**"
      ]
    },
    {
      "cell_type": "code",
      "execution_count": 41,
      "metadata": {
        "id": "je3WAmHwuh6e",
        "outputId": "20d17928-60dc-4f00-a5f3-543981bed366",
        "colab": {
          "base_uri": "https://localhost:8080/"
        }
      },
      "outputs": [
        {
          "output_type": "stream",
          "name": "stdout",
          "text": [
            "Epoch 1/20\n",
            "375/375 [==============================] - 2s 4ms/step - loss: 0.6700 - accuracy: 0.8326 - val_loss: 0.3602 - val_accuracy: 0.9022\n",
            "Epoch 2/20\n",
            "375/375 [==============================] - 1s 3ms/step - loss: 0.3527 - accuracy: 0.9025 - val_loss: 0.3096 - val_accuracy: 0.9143\n",
            "Epoch 3/20\n",
            "375/375 [==============================] - 1s 3ms/step - loss: 0.3171 - accuracy: 0.9115 - val_loss: 0.2931 - val_accuracy: 0.9183\n",
            "Epoch 4/20\n",
            "375/375 [==============================] - 1s 3ms/step - loss: 0.3016 - accuracy: 0.9159 - val_loss: 0.2843 - val_accuracy: 0.9206\n",
            "Epoch 5/20\n",
            "375/375 [==============================] - 1s 3ms/step - loss: 0.2918 - accuracy: 0.9194 - val_loss: 0.2784 - val_accuracy: 0.9223\n",
            "Epoch 6/20\n",
            "375/375 [==============================] - 1s 3ms/step - loss: 0.2853 - accuracy: 0.9203 - val_loss: 0.2749 - val_accuracy: 0.9235\n",
            "Epoch 7/20\n",
            "375/375 [==============================] - 1s 4ms/step - loss: 0.2802 - accuracy: 0.9216 - val_loss: 0.2726 - val_accuracy: 0.9240\n",
            "Epoch 8/20\n",
            "375/375 [==============================] - 1s 4ms/step - loss: 0.2764 - accuracy: 0.9237 - val_loss: 0.2690 - val_accuracy: 0.9277\n",
            "Epoch 9/20\n",
            "375/375 [==============================] - 1s 3ms/step - loss: 0.2732 - accuracy: 0.9244 - val_loss: 0.2686 - val_accuracy: 0.9269\n",
            "Epoch 10/20\n",
            "375/375 [==============================] - 1s 3ms/step - loss: 0.2703 - accuracy: 0.9252 - val_loss: 0.2691 - val_accuracy: 0.9262\n",
            "Epoch 11/20\n",
            "375/375 [==============================] - 1s 3ms/step - loss: 0.2684 - accuracy: 0.9262 - val_loss: 0.2667 - val_accuracy: 0.9274\n",
            "Epoch 12/20\n",
            "375/375 [==============================] - 1s 3ms/step - loss: 0.2664 - accuracy: 0.9261 - val_loss: 0.2650 - val_accuracy: 0.9287\n",
            "Epoch 13/20\n",
            "375/375 [==============================] - 1s 3ms/step - loss: 0.2646 - accuracy: 0.9266 - val_loss: 0.2644 - val_accuracy: 0.9292\n",
            "Epoch 14/20\n",
            "375/375 [==============================] - 1s 3ms/step - loss: 0.2629 - accuracy: 0.9279 - val_loss: 0.2634 - val_accuracy: 0.9304\n",
            "Epoch 15/20\n",
            "375/375 [==============================] - 1s 3ms/step - loss: 0.2615 - accuracy: 0.9284 - val_loss: 0.2633 - val_accuracy: 0.9287\n",
            "Epoch 16/20\n",
            "375/375 [==============================] - 1s 3ms/step - loss: 0.2603 - accuracy: 0.9283 - val_loss: 0.2641 - val_accuracy: 0.9288\n",
            "Epoch 17/20\n",
            "375/375 [==============================] - 1s 3ms/step - loss: 0.2591 - accuracy: 0.9291 - val_loss: 0.2640 - val_accuracy: 0.9300\n",
            "Epoch 18/20\n",
            "375/375 [==============================] - 1s 4ms/step - loss: 0.2582 - accuracy: 0.9287 - val_loss: 0.2614 - val_accuracy: 0.9310\n",
            "Epoch 19/20\n",
            "375/375 [==============================] - 1s 3ms/step - loss: 0.2571 - accuracy: 0.9296 - val_loss: 0.2639 - val_accuracy: 0.9299\n",
            "Epoch 20/20\n",
            "375/375 [==============================] - 1s 3ms/step - loss: 0.2562 - accuracy: 0.9295 - val_loss: 0.2619 - val_accuracy: 0.9302\n"
          ]
        }
      ],
      "source": [
        "model = keras.Sequential([layers.Dense(10, activation=\"softmax\")])\n",
        "model.compile(optimizer=\"rmsprop\",\n",
        "              loss=\"sparse_categorical_crossentropy\",\n",
        "              metrics=[\"accuracy\"])\n",
        "history_small_model = model.fit(\n",
        "    train_images, train_labels,\n",
        "    epochs=20,\n",
        "    batch_size=128,\n",
        "    validation_split=0.2)"
      ]
    },
    {
      "cell_type": "code",
      "execution_count": 42,
      "metadata": {
        "id": "lox7ub6muh6e",
        "outputId": "c257587d-32a2-4802-ab74-91a506d1fdc8",
        "colab": {
          "base_uri": "https://localhost:8080/",
          "height": 489
        }
      },
      "outputs": [
        {
          "output_type": "execute_result",
          "data": {
            "text/plain": [
              "<matplotlib.legend.Legend at 0x7fdba3b61100>"
            ]
          },
          "metadata": {},
          "execution_count": 42
        },
        {
          "output_type": "display_data",
          "data": {
            "text/plain": [
              "<Figure size 640x480 with 1 Axes>"
            ],
            "image/png": "[encoded data removed]"
          },
          "metadata": {}
        }
      ],
      "source": [
        "import matplotlib.pyplot as plt\n",
        "val_loss = history_small_model.history[\"val_loss\"]\n",
        "epochs = range(1, 21)\n",
        "plt.plot(epochs, val_loss, \"b--\",\n",
        "         label=\"Validation loss\")\n",
        "plt.title(\"Effect of insufficient model capacity on validation loss\")\n",
        "plt.xlabel(\"Epochs\")\n",
        "plt.ylabel(\"Loss\")\n",
        "plt.legend()"
      ]
    },
    {
      "cell_type": "code",
      "source": [
        "model = keras.Sequential([\n",
        "    layers.Dense(96, activation=\"relu\"),\n",
        "    layers.Dense(96, activation=\"relu\"),\n",
        "    layers.Dense(10, activation=\"softmax\"),\n",
        "])\n",
        "model.compile(optimizer=\"rmsprop\",\n",
        "              loss=\"sparse_categorical_crossentropy\",\n",
        "              metrics=[\"accuracy\"])\n",
        "history_large_model = model.fit(\n",
        "    train_images, train_labels,\n",
        "    epochs=20,\n",
        "    batch_size=128,\n",
        "    validation_split=0.2)"
      ],
      "metadata": {
        "id": "aSzlukb-AA_s",
        "outputId": "90a6d90d-77ef-4fdc-9e1d-cfdce6a48a46",
        "colab": {
          "base_uri": "https://localhost:8080/"
        }
      },
      "execution_count": 43,
      "outputs": [
        {
          "output_type": "stream",
          "name": "stdout",
          "text": [
            "Epoch 1/20\n",
            "375/375 [==============================] - 2s 4ms/step - loss: 0.3652 - accuracy: 0.8965 - val_loss: 0.1919 - val_accuracy: 0.9457\n",
            "Epoch 2/20\n",
            "375/375 [==============================] - 1s 4ms/step - loss: 0.1662 - accuracy: 0.9508 - val_loss: 0.1318 - val_accuracy: 0.9617\n",
            "Epoch 3/20\n",
            "375/375 [==============================] - 1s 3ms/step - loss: 0.1168 - accuracy: 0.9653 - val_loss: 0.1096 - val_accuracy: 0.9684\n",
            "Epoch 4/20\n",
            "375/375 [==============================] - 1s 4ms/step - loss: 0.0911 - accuracy: 0.9726 - val_loss: 0.1068 - val_accuracy: 0.9687\n",
            "Epoch 5/20\n",
            "375/375 [==============================] - 1s 4ms/step - loss: 0.0723 - accuracy: 0.9784 - val_loss: 0.0957 - val_accuracy: 0.9721\n",
            "Epoch 6/20\n",
            "375/375 [==============================] - 2s 5ms/step - loss: 0.0609 - accuracy: 0.9812 - val_loss: 0.0943 - val_accuracy: 0.9728\n",
            "Epoch 7/20\n",
            "375/375 [==============================] - 1s 4ms/step - loss: 0.0510 - accuracy: 0.9836 - val_loss: 0.1010 - val_accuracy: 0.9699\n",
            "Epoch 8/20\n",
            "375/375 [==============================] - 1s 3ms/step - loss: 0.0416 - accuracy: 0.9878 - val_loss: 0.0963 - val_accuracy: 0.9737\n",
            "Epoch 9/20\n",
            "375/375 [==============================] - 1s 3ms/step - loss: 0.0363 - accuracy: 0.9888 - val_loss: 0.0941 - val_accuracy: 0.9755\n",
            "Epoch 10/20\n",
            "375/375 [==============================] - 1s 4ms/step - loss: 0.0302 - accuracy: 0.9906 - val_loss: 0.1011 - val_accuracy: 0.9741\n",
            "Epoch 11/20\n",
            "375/375 [==============================] - 1s 4ms/step - loss: 0.0253 - accuracy: 0.9921 - val_loss: 0.0887 - val_accuracy: 0.9763\n",
            "Epoch 12/20\n",
            "375/375 [==============================] - 1s 4ms/step - loss: 0.0218 - accuracy: 0.9928 - val_loss: 0.0921 - val_accuracy: 0.9777\n",
            "Epoch 13/20\n",
            "375/375 [==============================] - 1s 3ms/step - loss: 0.0186 - accuracy: 0.9944 - val_loss: 0.0974 - val_accuracy: 0.9758\n",
            "Epoch 14/20\n",
            "375/375 [==============================] - 1s 4ms/step - loss: 0.0155 - accuracy: 0.9952 - val_loss: 0.0990 - val_accuracy: 0.9768\n",
            "Epoch 15/20\n",
            "375/375 [==============================] - 2s 5ms/step - loss: 0.0132 - accuracy: 0.9961 - val_loss: 0.1010 - val_accuracy: 0.9779\n",
            "Epoch 16/20\n",
            "375/375 [==============================] - 1s 4ms/step - loss: 0.0115 - accuracy: 0.9965 - val_loss: 0.1079 - val_accuracy: 0.9777\n",
            "Epoch 17/20\n",
            "375/375 [==============================] - 1s 3ms/step - loss: 0.0100 - accuracy: 0.9969 - val_loss: 0.1199 - val_accuracy: 0.9738\n",
            "Epoch 18/20\n",
            "375/375 [==============================] - 1s 4ms/step - loss: 0.0078 - accuracy: 0.9977 - val_loss: 0.1292 - val_accuracy: 0.9737\n",
            "Epoch 19/20\n",
            "375/375 [==============================] - 1s 3ms/step - loss: 0.0070 - accuracy: 0.9977 - val_loss: 0.1163 - val_accuracy: 0.9769\n",
            "Epoch 20/20\n",
            "375/375 [==============================] - 1s 3ms/step - loss: 0.0056 - accuracy: 0.9982 - val_loss: 0.1226 - val_accuracy: 0.9775\n"
          ]
        }
      ]
    },
    {
      "cell_type": "code",
      "source": [
        "import matplotlib.pyplot as plt\n",
        "val_loss = history_large_model.history[\"val_loss\"]\n",
        "epochs = range(1, 21)\n",
        "plt.plot(epochs, val_loss, \"b--\",\n",
        "         label=\"Validation loss\")\n",
        "plt.title(\"Effect of sufficient model capacity on validation loss\")\n",
        "plt.xlabel(\"Epochs\")\n",
        "plt.ylabel(\"Loss\")\n",
        "plt.legend()"
      ],
      "metadata": {
        "id": "OmjQmJgU_B3T",
        "outputId": "3111ec4b-c6ca-40d4-8399-70660e551261",
        "colab": {
          "base_uri": "https://localhost:8080/",
          "height": 489
        }
      },
      "execution_count": 44,
      "outputs": [
        {
          "output_type": "execute_result",
          "data": {
            "text/plain": [
              "<matplotlib.legend.Legend at 0x7fdb9c327d30>"
            ]
          },
          "metadata": {},
          "execution_count": 44
        },
        {
          "output_type": "display_data",
          "data": {
            "text/plain": [
              "<Figure size 640x480 with 1 Axes>"
            ],
            "image/png": "[encoded data removed]"
          },
          "metadata": {}
        }
      ]
    },
    {
      "cell_type": "markdown",
      "metadata": {
        "id": "s4duwXCxuh6e"
      },
      "source": [
        "## Improving generalization"
      ]
    },
    {
      "cell_type": "markdown",
      "metadata": {
        "id": "Vbvie0H6uh6f"
      },
      "source": [
        "### Dataset curation"
      ]
    },
    {
      "cell_type": "markdown",
      "metadata": {
        "id": "inLAtp79uh6f"
      },
      "source": [
        "### Feature engineering"
      ]
    },
    {
      "cell_type": "markdown",
      "metadata": {
        "id": "OrPzbJ1ruh6f"
      },
      "source": [
        "### Using early stopping"
      ]
    },
    {
      "cell_type": "markdown",
      "metadata": {
        "id": "003LmFHKuh6f"
      },
      "source": [
        "### Regularizing your model"
      ]
    },
    {
      "cell_type": "markdown",
      "metadata": {
        "id": "_1tKssAfuh6f"
      },
      "source": [
        "#### Reducing the network's size"
      ]
    },
    {
      "cell_type": "markdown",
      "metadata": {
        "id": "pyzxPDFNuh6g"
      },
      "source": [
        "**Original model**"
      ]
    },
    {
      "cell_type": "code",
      "execution_count": 45,
      "metadata": {
        "id": "sRSFx2g4uh6g",
        "outputId": "23c73d4e-7d45-4255-d3d0-4577ce4ccb52",
        "colab": {
          "base_uri": "https://localhost:8080/"
        }
      },
      "outputs": [
        {
          "output_type": "stream",
          "name": "stdout",
          "text": [
            "Epoch 1/20\n",
            "30/30 [==============================] - 3s 58ms/step - loss: 0.5306 - accuracy: 0.7721 - val_loss: 0.3951 - val_accuracy: 0.8628\n",
            "Epoch 2/20\n",
            "30/30 [==============================] - 1s 25ms/step - loss: 0.3225 - accuracy: 0.8895 - val_loss: 0.3146 - val_accuracy: 0.8808\n",
            "Epoch 3/20\n",
            "30/30 [==============================] - 1s 25ms/step - loss: 0.2373 - accuracy: 0.9201 - val_loss: 0.2868 - val_accuracy: 0.8876\n",
            "Epoch 4/20\n",
            "30/30 [==============================] - 1s 25ms/step - loss: 0.1918 - accuracy: 0.9364 - val_loss: 0.2791 - val_accuracy: 0.8878\n",
            "Epoch 5/20\n",
            "30/30 [==============================] - 1s 25ms/step - loss: 0.1587 - accuracy: 0.9467 - val_loss: 0.2792 - val_accuracy: 0.8885\n",
            "Epoch 6/20\n",
            "30/30 [==============================] - 1s 22ms/step - loss: 0.1345 - accuracy: 0.9560 - val_loss: 0.3402 - val_accuracy: 0.8712\n",
            "Epoch 7/20\n",
            "30/30 [==============================] - 1s 26ms/step - loss: 0.1156 - accuracy: 0.9640 - val_loss: 0.3179 - val_accuracy: 0.8793\n",
            "Epoch 8/20\n",
            "30/30 [==============================] - 1s 39ms/step - loss: 0.1008 - accuracy: 0.9674 - val_loss: 0.3194 - val_accuracy: 0.8838\n",
            "Epoch 9/20\n",
            "30/30 [==============================] - 1s 30ms/step - loss: 0.0875 - accuracy: 0.9730 - val_loss: 0.3847 - val_accuracy: 0.8698\n",
            "Epoch 10/20\n",
            "30/30 [==============================] - 1s 24ms/step - loss: 0.0736 - accuracy: 0.9796 - val_loss: 0.3604 - val_accuracy: 0.8788\n",
            "Epoch 11/20\n",
            "30/30 [==============================] - 1s 23ms/step - loss: 0.0628 - accuracy: 0.9830 - val_loss: 0.3873 - val_accuracy: 0.8772\n",
            "Epoch 12/20\n",
            "30/30 [==============================] - 1s 25ms/step - loss: 0.0529 - accuracy: 0.9874 - val_loss: 0.4058 - val_accuracy: 0.8759\n",
            "Epoch 13/20\n",
            "30/30 [==============================] - 1s 24ms/step - loss: 0.0505 - accuracy: 0.9859 - val_loss: 0.4412 - val_accuracy: 0.8735\n",
            "Epoch 14/20\n",
            "30/30 [==============================] - 1s 25ms/step - loss: 0.0397 - accuracy: 0.9908 - val_loss: 0.4551 - val_accuracy: 0.8739\n",
            "Epoch 15/20\n",
            "30/30 [==============================] - 1s 23ms/step - loss: 0.0357 - accuracy: 0.9907 - val_loss: 0.4729 - val_accuracy: 0.8760\n",
            "Epoch 16/20\n",
            "30/30 [==============================] - 1s 25ms/step - loss: 0.0270 - accuracy: 0.9949 - val_loss: 0.5033 - val_accuracy: 0.8701\n",
            "Epoch 17/20\n",
            "30/30 [==============================] - 1s 25ms/step - loss: 0.0237 - accuracy: 0.9955 - val_loss: 0.5471 - val_accuracy: 0.8689\n",
            "Epoch 18/20\n",
            "30/30 [==============================] - 1s 25ms/step - loss: 0.0241 - accuracy: 0.9953 - val_loss: 0.5492 - val_accuracy: 0.8714\n",
            "Epoch 19/20\n",
            "30/30 [==============================] - 1s 26ms/step - loss: 0.0163 - accuracy: 0.9971 - val_loss: 0.5777 - val_accuracy: 0.8704\n",
            "Epoch 20/20\n",
            "30/30 [==============================] - 1s 25ms/step - loss: 0.0168 - accuracy: 0.9964 - val_loss: 0.6037 - val_accuracy: 0.8679\n"
          ]
        }
      ],
      "source": [
        "from tensorflow.keras.datasets import imdb\n",
        "(train_data, train_labels), _ = imdb.load_data(num_words=10000)\n",
        "\n",
        "def vectorize_sequences(sequences, dimension=10000):\n",
        "    results = np.zeros((len(sequences), dimension))\n",
        "    for i, sequence in enumerate(sequences):\n",
        "        results[i, sequence] = 1.\n",
        "    return results\n",
        "train_data = vectorize_sequences(train_data)\n",
        "\n",
        "model = keras.Sequential([\n",
        "    layers.Dense(16, activation=\"relu\"),\n",
        "    layers.Dense(16, activation=\"relu\"),\n",
        "    layers.Dense(1, activation=\"sigmoid\")\n",
        "])\n",
        "model.compile(optimizer=\"rmsprop\",\n",
        "              loss=\"binary_crossentropy\",\n",
        "              metrics=[\"accuracy\"])\n",
        "history_original = model.fit(train_data, train_labels,\n",
        "                             epochs=20, batch_size=512, validation_split=0.4)"
      ]
    },
    {
      "cell_type": "markdown",
      "metadata": {
        "id": "-lLFIAZeuh6g"
      },
      "source": [
        "**Version of the model with lower capacity**"
      ]
    },
    {
      "cell_type": "code",
      "execution_count": 46,
      "metadata": {
        "id": "_kfs1onruh6g",
        "outputId": "c1c302d0-3746-4aca-cb84-1ddbd5d5ac14",
        "colab": {
          "base_uri": "https://localhost:8080/"
        }
      },
      "outputs": [
        {
          "output_type": "stream",
          "name": "stdout",
          "text": [
            "Epoch 1/20\n",
            "30/30 [==============================] - 3s 55ms/step - loss: 0.6407 - accuracy: 0.6513 - val_loss: 0.5986 - val_accuracy: 0.7717\n",
            "Epoch 2/20\n",
            "30/30 [==============================] - 1s 29ms/step - loss: 0.5635 - accuracy: 0.7652 - val_loss: 0.5589 - val_accuracy: 0.7251\n",
            "Epoch 3/20\n",
            "30/30 [==============================] - 1s 42ms/step - loss: 0.5193 - accuracy: 0.8145 - val_loss: 0.5263 - val_accuracy: 0.8375\n",
            "Epoch 4/20\n",
            "30/30 [==============================] - 1s 24ms/step - loss: 0.4870 - accuracy: 0.8511 - val_loss: 0.5066 - val_accuracy: 0.8121\n",
            "Epoch 5/20\n",
            "30/30 [==============================] - 1s 26ms/step - loss: 0.4605 - accuracy: 0.8733 - val_loss: 0.4902 - val_accuracy: 0.8317\n",
            "Epoch 6/20\n",
            "30/30 [==============================] - 1s 23ms/step - loss: 0.4380 - accuracy: 0.8912 - val_loss: 0.4746 - val_accuracy: 0.8627\n",
            "Epoch 7/20\n",
            "30/30 [==============================] - 1s 25ms/step - loss: 0.4185 - accuracy: 0.9059 - val_loss: 0.4688 - val_accuracy: 0.8484\n",
            "Epoch 8/20\n",
            "30/30 [==============================] - 1s 25ms/step - loss: 0.4008 - accuracy: 0.9179 - val_loss: 0.4622 - val_accuracy: 0.8513\n",
            "Epoch 9/20\n",
            "30/30 [==============================] - 1s 22ms/step - loss: 0.3848 - accuracy: 0.9277 - val_loss: 0.4491 - val_accuracy: 0.8709\n",
            "Epoch 10/20\n",
            "30/30 [==============================] - 1s 23ms/step - loss: 0.3702 - accuracy: 0.9364 - val_loss: 0.4520 - val_accuracy: 0.8595\n",
            "Epoch 11/20\n",
            "30/30 [==============================] - 1s 23ms/step - loss: 0.3565 - accuracy: 0.9424 - val_loss: 0.4426 - val_accuracy: 0.8695\n",
            "Epoch 12/20\n",
            "30/30 [==============================] - 1s 23ms/step - loss: 0.3434 - accuracy: 0.9492 - val_loss: 0.4439 - val_accuracy: 0.8651\n",
            "Epoch 13/20\n",
            "30/30 [==============================] - 1s 25ms/step - loss: 0.3313 - accuracy: 0.9535 - val_loss: 0.4387 - val_accuracy: 0.8710\n",
            "Epoch 14/20\n",
            "30/30 [==============================] - 1s 25ms/step - loss: 0.3198 - accuracy: 0.9591 - val_loss: 0.4375 - val_accuracy: 0.8706\n",
            "Epoch 15/20\n",
            "30/30 [==============================] - 1s 26ms/step - loss: 0.3088 - accuracy: 0.9632 - val_loss: 0.4493 - val_accuracy: 0.8644\n",
            "Epoch 16/20\n",
            "30/30 [==============================] - 1s 24ms/step - loss: 0.2983 - accuracy: 0.9673 - val_loss: 0.4369 - val_accuracy: 0.8715\n",
            "Epoch 17/20\n",
            "30/30 [==============================] - 1s 23ms/step - loss: 0.2887 - accuracy: 0.9715 - val_loss: 0.4529 - val_accuracy: 0.8647\n",
            "Epoch 18/20\n",
            "30/30 [==============================] - 1s 30ms/step - loss: 0.2789 - accuracy: 0.9744 - val_loss: 0.4281 - val_accuracy: 0.8757\n",
            "Epoch 19/20\n",
            "30/30 [==============================] - 1s 30ms/step - loss: 0.2698 - accuracy: 0.9778 - val_loss: 0.4400 - val_accuracy: 0.8697\n",
            "Epoch 20/20\n",
            "30/30 [==============================] - 1s 29ms/step - loss: 0.2611 - accuracy: 0.9797 - val_loss: 0.4616 - val_accuracy: 0.8624\n"
          ]
        }
      ],
      "source": [
        "model = keras.Sequential([\n",
        "    layers.Dense(4, activation=\"relu\"),\n",
        "    layers.Dense(4, activation=\"relu\"),\n",
        "    layers.Dense(1, activation=\"sigmoid\")\n",
        "])\n",
        "model.compile(optimizer=\"rmsprop\",\n",
        "              loss=\"binary_crossentropy\",\n",
        "              metrics=[\"accuracy\"])\n",
        "history_smaller_model = model.fit(\n",
        "    train_data, train_labels,\n",
        "    epochs=20, batch_size=512, validation_split=0.4)"
      ]
    },
    {
      "cell_type": "markdown",
      "metadata": {
        "id": "nGIyvJwauh6g"
      },
      "source": [
        "**Version of the model with higher capacity**"
      ]
    },
    {
      "cell_type": "code",
      "execution_count": 47,
      "metadata": {
        "id": "EDBuVlByuh6g",
        "outputId": "d6a0cd22-04cd-46ee-8c1d-6be780f23dbd",
        "colab": {
          "base_uri": "https://localhost:8080/"
        }
      },
      "outputs": [
        {
          "output_type": "stream",
          "name": "stdout",
          "text": [
            "Epoch 1/20\n",
            "30/30 [==============================] - 3s 60ms/step - loss: 0.5642 - accuracy: 0.7234 - val_loss: 0.5348 - val_accuracy: 0.7467\n",
            "Epoch 2/20\n",
            "30/30 [==============================] - 1s 43ms/step - loss: 0.3344 - accuracy: 0.8629 - val_loss: 0.3081 - val_accuracy: 0.8718\n",
            "Epoch 3/20\n",
            "30/30 [==============================] - 1s 44ms/step - loss: 0.2368 - accuracy: 0.9049 - val_loss: 0.3218 - val_accuracy: 0.8624\n",
            "Epoch 4/20\n",
            "30/30 [==============================] - 1s 29ms/step - loss: 0.1913 - accuracy: 0.9264 - val_loss: 0.2712 - val_accuracy: 0.8902\n",
            "Epoch 5/20\n",
            "30/30 [==============================] - 1s 27ms/step - loss: 0.1380 - accuracy: 0.9481 - val_loss: 0.2867 - val_accuracy: 0.8854\n",
            "Epoch 6/20\n",
            "30/30 [==============================] - 1s 28ms/step - loss: 0.1011 - accuracy: 0.9644 - val_loss: 0.3649 - val_accuracy: 0.8722\n",
            "Epoch 7/20\n",
            "30/30 [==============================] - 1s 27ms/step - loss: 0.0748 - accuracy: 0.9767 - val_loss: 0.3583 - val_accuracy: 0.8839\n",
            "Epoch 8/20\n",
            "30/30 [==============================] - 1s 30ms/step - loss: 0.0751 - accuracy: 0.9784 - val_loss: 0.3677 - val_accuracy: 0.8842\n",
            "Epoch 9/20\n",
            "30/30 [==============================] - 1s 28ms/step - loss: 0.0530 - accuracy: 0.9873 - val_loss: 0.4418 - val_accuracy: 0.8559\n",
            "Epoch 10/20\n",
            "30/30 [==============================] - 1s 29ms/step - loss: 0.0148 - accuracy: 0.9982 - val_loss: 0.4479 - val_accuracy: 0.8835\n",
            "Epoch 11/20\n",
            "30/30 [==============================] - 1s 29ms/step - loss: 0.0054 - accuracy: 0.9993 - val_loss: 0.5504 - val_accuracy: 0.8738\n",
            "Epoch 12/20\n",
            "30/30 [==============================] - 1s 40ms/step - loss: 0.0836 - accuracy: 0.9827 - val_loss: 0.4564 - val_accuracy: 0.8852\n",
            "Epoch 13/20\n",
            "30/30 [==============================] - 1s 30ms/step - loss: 0.0028 - accuracy: 0.9999 - val_loss: 0.5340 - val_accuracy: 0.8842\n",
            "Epoch 14/20\n",
            "30/30 [==============================] - 1s 30ms/step - loss: 0.0768 - accuracy: 0.9846 - val_loss: 0.4474 - val_accuracy: 0.8803\n",
            "Epoch 15/20\n",
            "30/30 [==============================] - 1s 43ms/step - loss: 0.0035 - accuracy: 1.0000 - val_loss: 0.5048 - val_accuracy: 0.8820\n",
            "Epoch 16/20\n",
            "30/30 [==============================] - 1s 32ms/step - loss: 0.0013 - accuracy: 1.0000 - val_loss: 0.5814 - val_accuracy: 0.8837\n",
            "Epoch 17/20\n",
            "30/30 [==============================] - 1s 28ms/step - loss: 7.5235e-04 - accuracy: 1.0000 - val_loss: 0.6375 - val_accuracy: 0.8830\n",
            "Epoch 18/20\n",
            "30/30 [==============================] - 1s 28ms/step - loss: 4.9300e-04 - accuracy: 1.0000 - val_loss: 0.6756 - val_accuracy: 0.8838\n",
            "Epoch 19/20\n",
            "30/30 [==============================] - 1s 27ms/step - loss: 3.2847e-04 - accuracy: 1.0000 - val_loss: 0.6971 - val_accuracy: 0.8835\n",
            "Epoch 20/20\n",
            "30/30 [==============================] - 1s 27ms/step - loss: 2.4294e-04 - accuracy: 1.0000 - val_loss: 0.7237 - val_accuracy: 0.8834\n"
          ]
        }
      ],
      "source": [
        "model = keras.Sequential([\n",
        "    layers.Dense(512, activation=\"relu\"),\n",
        "    layers.Dense(512, activation=\"relu\"),\n",
        "    layers.Dense(1, activation=\"sigmoid\")\n",
        "])\n",
        "model.compile(optimizer=\"rmsprop\",\n",
        "              loss=\"binary_crossentropy\",\n",
        "              metrics=[\"accuracy\"])\n",
        "history_larger_model = model.fit(\n",
        "    train_data, train_labels,\n",
        "    epochs=20, batch_size=512, validation_split=0.4)"
      ]
    },
    {
      "cell_type": "markdown",
      "metadata": {
        "id": "xNskCRwNuh6h"
      },
      "source": [
        "#### Adding weight regularization"
      ]
    },
    {
      "cell_type": "markdown",
      "metadata": {
        "id": "O7kHeFhruh6h"
      },
      "source": [
        "**Adding L2 weight regularization to the model**"
      ]
    },
    {
      "cell_type": "code",
      "execution_count": 48,
      "metadata": {
        "id": "NjQuf8pFuh6h",
        "outputId": "31c66b44-131b-4cfb-8b4f-efa51170afd4",
        "colab": {
          "base_uri": "https://localhost:8080/"
        }
      },
      "outputs": [
        {
          "output_type": "stream",
          "name": "stdout",
          "text": [
            "Epoch 1/20\n",
            "30/30 [==============================] - 3s 57ms/step - loss: 0.6026 - accuracy: 0.7741 - val_loss: 0.4704 - val_accuracy: 0.8615\n",
            "Epoch 2/20\n",
            "30/30 [==============================] - 1s 27ms/step - loss: 0.3996 - accuracy: 0.8927 - val_loss: 0.3954 - val_accuracy: 0.8758\n",
            "Epoch 3/20\n",
            "30/30 [==============================] - 1s 28ms/step - loss: 0.3272 - accuracy: 0.9138 - val_loss: 0.3583 - val_accuracy: 0.8883\n",
            "Epoch 4/20\n",
            "30/30 [==============================] - 1s 26ms/step - loss: 0.2919 - accuracy: 0.9243 - val_loss: 0.3752 - val_accuracy: 0.8739\n",
            "Epoch 5/20\n",
            "30/30 [==============================] - 1s 26ms/step - loss: 0.2721 - accuracy: 0.9317 - val_loss: 0.3548 - val_accuracy: 0.8842\n",
            "Epoch 6/20\n",
            "30/30 [==============================] - 1s 28ms/step - loss: 0.2517 - accuracy: 0.9407 - val_loss: 0.3504 - val_accuracy: 0.8847\n",
            "Epoch 7/20\n",
            "30/30 [==============================] - 1s 28ms/step - loss: 0.2368 - accuracy: 0.9449 - val_loss: 0.3547 - val_accuracy: 0.8854\n",
            "Epoch 8/20\n",
            "30/30 [==============================] - 1s 30ms/step - loss: 0.2317 - accuracy: 0.9448 - val_loss: 0.3615 - val_accuracy: 0.8834\n",
            "Epoch 9/20\n",
            "30/30 [==============================] - 1s 45ms/step - loss: 0.2215 - accuracy: 0.9506 - val_loss: 0.3667 - val_accuracy: 0.8824\n",
            "Epoch 10/20\n",
            "30/30 [==============================] - 1s 30ms/step - loss: 0.2182 - accuracy: 0.9527 - val_loss: 0.3800 - val_accuracy: 0.8769\n",
            "Epoch 11/20\n",
            "30/30 [==============================] - 1s 27ms/step - loss: 0.2152 - accuracy: 0.9511 - val_loss: 0.3841 - val_accuracy: 0.8786\n",
            "Epoch 12/20\n",
            "30/30 [==============================] - 1s 25ms/step - loss: 0.2052 - accuracy: 0.9571 - val_loss: 0.4093 - val_accuracy: 0.8721\n",
            "Epoch 13/20\n",
            "30/30 [==============================] - 1s 25ms/step - loss: 0.2020 - accuracy: 0.9605 - val_loss: 0.3850 - val_accuracy: 0.8797\n",
            "Epoch 14/20\n",
            "30/30 [==============================] - 1s 25ms/step - loss: 0.2050 - accuracy: 0.9565 - val_loss: 0.4589 - val_accuracy: 0.8613\n",
            "Epoch 15/20\n",
            "30/30 [==============================] - 1s 27ms/step - loss: 0.2033 - accuracy: 0.9578 - val_loss: 0.3947 - val_accuracy: 0.8784\n",
            "Epoch 16/20\n",
            "30/30 [==============================] - 1s 24ms/step - loss: 0.1916 - accuracy: 0.9632 - val_loss: 0.4051 - val_accuracy: 0.8756\n",
            "Epoch 17/20\n",
            "30/30 [==============================] - 1s 26ms/step - loss: 0.1938 - accuracy: 0.9609 - val_loss: 0.4755 - val_accuracy: 0.8590\n",
            "Epoch 18/20\n",
            "30/30 [==============================] - 1s 25ms/step - loss: 0.1863 - accuracy: 0.9657 - val_loss: 0.4047 - val_accuracy: 0.8768\n",
            "Epoch 19/20\n",
            "30/30 [==============================] - 1s 28ms/step - loss: 0.1877 - accuracy: 0.9636 - val_loss: 0.4788 - val_accuracy: 0.8606\n",
            "Epoch 20/20\n",
            "30/30 [==============================] - 1s 25ms/step - loss: 0.1858 - accuracy: 0.9652 - val_loss: 0.4170 - val_accuracy: 0.8749\n"
          ]
        }
      ],
      "source": [
        "from tensorflow.keras import regularizers\n",
        "model = keras.Sequential([\n",
        "    layers.Dense(16,\n",
        "                 kernel_regularizer=regularizers.l2(0.002),\n",
        "                 activation=\"relu\"),\n",
        "    layers.Dense(16,\n",
        "                 kernel_regularizer=regularizers.l2(0.002),\n",
        "                 activation=\"relu\"),\n",
        "    layers.Dense(1, activation=\"sigmoid\")\n",
        "])\n",
        "model.compile(optimizer=\"rmsprop\",\n",
        "              loss=\"binary_crossentropy\",\n",
        "              metrics=[\"accuracy\"])\n",
        "history_l2_reg = model.fit(\n",
        "    train_data, train_labels,\n",
        "    epochs=20, batch_size=512, validation_split=0.4)"
      ]
    },
    {
      "cell_type": "markdown",
      "metadata": {
        "id": "n5SB8x8Suh6h"
      },
      "source": [
        "**Different weight regularizers available in Keras**"
      ]
    },
    {
      "cell_type": "code",
      "execution_count": 49,
      "metadata": {
        "id": "2qzGaAmbuh6h",
        "outputId": "8d7fad58-884b-4a41-9465-c83f6ed1e6c1",
        "colab": {
          "base_uri": "https://localhost:8080/"
        }
      },
      "outputs": [
        {
          "output_type": "execute_result",
          "data": {
            "text/plain": [
              "<keras.regularizers.L1L2 at 0x7fdba6f55e20>"
            ]
          },
          "metadata": {},
          "execution_count": 49
        }
      ],
      "source": [
        "from tensorflow.keras import regularizers\n",
        "regularizers.l1(0.001)\n",
        "regularizers.l1_l2(l1=0.001, l2=0.001)"
      ]
    },
    {
      "cell_type": "markdown",
      "metadata": {
        "id": "w2go9l7Wuh6h"
      },
      "source": [
        "#### Adding dropout"
      ]
    },
    {
      "cell_type": "markdown",
      "metadata": {
        "id": "5s9KZWKiuh6h"
      },
      "source": [
        "**Adding dropout to the IMDB model**"
      ]
    },
    {
      "cell_type": "code",
      "execution_count": 50,
      "metadata": {
        "id": "850M4xahuh6i",
        "outputId": "d3688054-495b-4b34-cbed-1cd4aa42999f",
        "colab": {
          "base_uri": "https://localhost:8080/"
        }
      },
      "outputs": [
        {
          "output_type": "stream",
          "name": "stdout",
          "text": [
            "Epoch 1/20\n",
            "30/30 [==============================] - 4s 81ms/step - loss: 0.6385 - accuracy: 0.6357 - val_loss: 0.5403 - val_accuracy: 0.8168\n",
            "Epoch 2/20\n",
            "30/30 [==============================] - 1s 26ms/step - loss: 0.5357 - accuracy: 0.7537 - val_loss: 0.4503 - val_accuracy: 0.8589\n",
            "Epoch 3/20\n",
            "30/30 [==============================] - 1s 24ms/step - loss: 0.4626 - accuracy: 0.8122 - val_loss: 0.3895 - val_accuracy: 0.8666\n",
            "Epoch 4/20\n",
            "30/30 [==============================] - 1s 25ms/step - loss: 0.4069 - accuracy: 0.8493 - val_loss: 0.3329 - val_accuracy: 0.8790\n",
            "Epoch 5/20\n",
            "30/30 [==============================] - 1s 26ms/step - loss: 0.3569 - accuracy: 0.8740 - val_loss: 0.3110 - val_accuracy: 0.8801\n",
            "Epoch 6/20\n",
            "30/30 [==============================] - 1s 24ms/step - loss: 0.3155 - accuracy: 0.8917 - val_loss: 0.2937 - val_accuracy: 0.8851\n",
            "Epoch 7/20\n",
            "30/30 [==============================] - 1s 25ms/step - loss: 0.2822 - accuracy: 0.9067 - val_loss: 0.2759 - val_accuracy: 0.8909\n",
            "Epoch 8/20\n",
            "30/30 [==============================] - 1s 25ms/step - loss: 0.2539 - accuracy: 0.9157 - val_loss: 0.2774 - val_accuracy: 0.8900\n",
            "Epoch 9/20\n",
            "30/30 [==============================] - 1s 26ms/step - loss: 0.2263 - accuracy: 0.9265 - val_loss: 0.2850 - val_accuracy: 0.8912\n",
            "Epoch 10/20\n",
            "30/30 [==============================] - 1s 26ms/step - loss: 0.2019 - accuracy: 0.9333 - val_loss: 0.2995 - val_accuracy: 0.8879\n",
            "Epoch 11/20\n",
            "30/30 [==============================] - 1s 27ms/step - loss: 0.1841 - accuracy: 0.9417 - val_loss: 0.3007 - val_accuracy: 0.8908\n",
            "Epoch 12/20\n",
            "30/30 [==============================] - 1s 25ms/step - loss: 0.1708 - accuracy: 0.9449 - val_loss: 0.3305 - val_accuracy: 0.8880\n",
            "Epoch 13/20\n",
            "30/30 [==============================] - 1s 25ms/step - loss: 0.1557 - accuracy: 0.9497 - val_loss: 0.3436 - val_accuracy: 0.8862\n",
            "Epoch 14/20\n",
            "30/30 [==============================] - 1s 23ms/step - loss: 0.1446 - accuracy: 0.9523 - val_loss: 0.3513 - val_accuracy: 0.8879\n",
            "Epoch 15/20\n",
            "30/30 [==============================] - 1s 31ms/step - loss: 0.1303 - accuracy: 0.9572 - val_loss: 0.3705 - val_accuracy: 0.8869\n",
            "Epoch 16/20\n",
            "30/30 [==============================] - 1s 30ms/step - loss: 0.1207 - accuracy: 0.9627 - val_loss: 0.4098 - val_accuracy: 0.8825\n",
            "Epoch 17/20\n",
            "30/30 [==============================] - 1s 27ms/step - loss: 0.1104 - accuracy: 0.9635 - val_loss: 0.4066 - val_accuracy: 0.8849\n",
            "Epoch 18/20\n",
            "30/30 [==============================] - 1s 25ms/step - loss: 0.1062 - accuracy: 0.9654 - val_loss: 0.4509 - val_accuracy: 0.8854\n",
            "Epoch 19/20\n",
            "30/30 [==============================] - 1s 22ms/step - loss: 0.0983 - accuracy: 0.9652 - val_loss: 0.4462 - val_accuracy: 0.8852\n",
            "Epoch 20/20\n",
            "30/30 [==============================] - 1s 22ms/step - loss: 0.0932 - accuracy: 0.9698 - val_loss: 0.5104 - val_accuracy: 0.8842\n"
          ]
        }
      ],
      "source": [
        "model = keras.Sequential([\n",
        "    layers.Dense(16, activation=\"relu\"),\n",
        "    layers.Dropout(0.5),\n",
        "    layers.Dense(16, activation=\"relu\"),\n",
        "    layers.Dropout(0.5),\n",
        "    layers.Dense(1, activation=\"sigmoid\")\n",
        "])\n",
        "model.compile(optimizer=\"rmsprop\",\n",
        "              loss=\"binary_crossentropy\",\n",
        "              metrics=[\"accuracy\"])\n",
        "history_dropout = model.fit(\n",
        "    train_data, train_labels,\n",
        "    epochs=20, batch_size=512, validation_split=0.4)"
      ]
    },
    {
      "cell_type": "code",
      "source": [
        "import matplotlib.pyplot as plt\n",
        "val_loss = history_dropout.history[\"val_loss\"]\n",
        "epochs = range(1, 21)\n",
        "plt.plot(epochs, val_loss, \"b--\",\n",
        "         label=\"Validation loss\")\n",
        "plt.title(\"Effect of model with dropout on validation loss\")\n",
        "plt.xlabel(\"Epochs\")\n",
        "plt.ylabel(\"Loss\")\n",
        "plt.legend()"
      ],
      "metadata": {
        "id": "TvZFoyLCBK1_",
        "outputId": "c124c069-9f99-4eda-d4a1-a7704523b654",
        "colab": {
          "base_uri": "https://localhost:8080/",
          "height": 489
        }
      },
      "execution_count": 51,
      "outputs": [
        {
          "output_type": "execute_result",
          "data": {
            "text/plain": [
              "<matplotlib.legend.Legend at 0x7fdba3b8a790>"
            ]
          },
          "metadata": {},
          "execution_count": 51
        },
        {
          "output_type": "display_data",
          "data": {
            "text/plain": [
              "<Figure size 640x480 with 1 Axes>"
            ],
            "image/png": "[encoded data removed]"
          },
          "metadata": {}
        }
      ]
    },
    {
      "cell_type": "markdown",
      "metadata": {
        "id": "GKuiZNCeuh6i"
      },
      "source": [
        "## Summary"
      ]
    }
  ],
  "metadata": {
    "colab": {
      "name": "chapter05_fundamentals-of-ml.i",
      "provenance": [],
      "toc_visible": true
    },
    "kernelspec": {
      "display_name": "Python 3",
      "language": "python",
      "name": "python3"
    },
    "language_info": {
      "codemirror_mode": {
        "name": "ipython",
        "version": 3
      },
      "file_extension": ".py",
      "mimetype": "text/x-python",
      "name": "python",
      "nbconvert_exporter": "python",
      "pygments_lexer": "ipython3",
      "version": "3.7.0"
    },
    "accelerator": "GPU",
    "gpuClass": "standard"
  },
  "nbformat": 4,
  "nbformat_minor": 0
}